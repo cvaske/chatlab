{
 "cells": [
  {
   "cell_type": "code",
   "execution_count": 4,
   "metadata": {},
   "outputs": [
    {
     "name": "stderr",
     "output_type": "stream",
     "text": [
      "/Users/kylekelley/Library/Caches/pypoetry/virtualenvs/chatlab-0EWIBOuo-py3.11/lib/python3.11/site-packages/pydantic/main.py:1455: RuntimeWarning: fields may not start with an underscore, ignoring \"__required__\"\n",
      "  warnings.warn(f'fields may not start with an underscore, ignoring \"{f_name}\"', RuntimeWarning)\n"
     ]
    },
    {
     "data": {
      "application/vdom.v1+json": {
       "attributes": {},
       "children": [
        {
         "attributes": {
          "style": {
           "textAlign": "center"
          }
         },
         "children": [
          "Fallout Characters"
         ],
         "tagName": "h1"
        },
        {
         "attributes": {
          "style": {
           "display": "grid",
           "gap": "20px",
           "gridTemplateColumns": "repeat(auto-fill, minmax(250px, 1fr))",
           "padding": "10px"
          }
         },
         "children": [
          {
           "attributes": {
            "style": {
             "alignItems": "center",
             "border": "1px solid #ddd",
             "borderRadius": "5px",
             "display": "flex",
             "flexDirection": "column",
             "justifyContent": "center",
             "padding": "10px"
            }
           },
           "children": [
            {
             "attributes": {
              "style": {
               "color": "#333"
              }
             },
             "children": [
              "Vault Dweller"
             ],
             "tagName": "h1"
            },
            {
             "attributes": {},
             "children": [
              {
               "attributes": {
                "style": {
                 "fontWeight": "bold"
                }
               },
               "children": [
                "Age: "
               ],
               "tagName": "span"
              },
              {
               "attributes": {
                "style": {
                 "color": "gray"
                }
               },
               "children": [
                "19"
               ],
               "tagName": "span"
              }
             ],
             "tagName": "p"
            },
            {
             "attributes": {},
             "children": [
              {
               "attributes": {
                "style": {
                 "fontWeight": "bold"
                }
               },
               "children": [
                "Role: "
               ],
               "tagName": "span"
              },
              {
               "attributes": {
                "style": {
                 "color": "#555"
                }
               },
               "children": [
                "Protagonist"
               ],
               "tagName": "span"
              }
             ],
             "tagName": "p"
            },
            {
             "attributes": {},
             "children": [
              {
               "attributes": {
                "style": {
                 "fontWeight": "bold"
                }
               },
               "children": [
                "Affiliation: "
               ],
               "tagName": "span"
              },
              {
               "attributes": {
                "style": {
                 "color": "#777"
                }
               },
               "children": [
                "Vault 13"
               ],
               "tagName": "span"
              }
             ],
             "tagName": "p"
            }
           ],
           "tagName": "div"
          },
          {
           "attributes": {
            "style": {
             "alignItems": "center",
             "border": "1px solid #ddd",
             "borderRadius": "5px",
             "display": "flex",
             "flexDirection": "column",
             "justifyContent": "center",
             "padding": "10px"
            }
           },
           "children": [
            {
             "attributes": {
              "style": {
               "color": "#333"
              }
             },
             "children": [
              "Dogmeat"
             ],
             "tagName": "h1"
            },
            {
             "attributes": {},
             "children": [
              {
               "attributes": {
                "style": {
                 "fontWeight": "bold"
                }
               },
               "children": [
                "Age: "
               ],
               "tagName": "span"
              },
              {
               "attributes": {
                "style": {
                 "color": "gray"
                }
               },
               "children": [
                "5"
               ],
               "tagName": "span"
              }
             ],
             "tagName": "p"
            },
            {
             "attributes": {},
             "children": [
              {
               "attributes": {
                "style": {
                 "fontWeight": "bold"
                }
               },
               "children": [
                "Role: "
               ],
               "tagName": "span"
              },
              {
               "attributes": {
                "style": {
                 "color": "#555"
                }
               },
               "children": [
                "Companion"
               ],
               "tagName": "span"
              }
             ],
             "tagName": "p"
            },
            {
             "attributes": {},
             "children": [
              {
               "attributes": {
                "style": {
                 "fontWeight": "bold"
                }
               },
               "children": [
                "Affiliation: "
               ],
               "tagName": "span"
              },
              {
               "attributes": {
                "style": {
                 "color": "#777"
                }
               },
               "children": [
                "Lone Wanderer"
               ],
               "tagName": "span"
              }
             ],
             "tagName": "p"
            }
           ],
           "tagName": "div"
          },
          {
           "attributes": {
            "style": {
             "alignItems": "center",
             "border": "1px solid #ddd",
             "borderRadius": "5px",
             "display": "flex",
             "flexDirection": "column",
             "justifyContent": "center",
             "padding": "10px"
            }
           },
           "children": [
            {
             "attributes": {
              "style": {
               "color": "#333"
              }
             },
             "children": [
              "Preston Garvey"
             ],
             "tagName": "h1"
            },
            {
             "attributes": {},
             "children": [
              {
               "attributes": {
                "style": {
                 "fontWeight": "bold"
                }
               },
               "children": [
                "Age: "
               ],
               "tagName": "span"
              },
              {
               "attributes": {
                "style": {
                 "color": "gray"
                }
               },
               "children": [
                "26"
               ],
               "tagName": "span"
              }
             ],
             "tagName": "p"
            },
            {
             "attributes": {},
             "children": [
              {
               "attributes": {
                "style": {
                 "fontWeight": "bold"
                }
               },
               "children": [
                "Role: "
               ],
               "tagName": "span"
              },
              {
               "attributes": {
                "style": {
                 "color": "#555"
                }
               },
               "children": [
                "Companion"
               ],
               "tagName": "span"
              }
             ],
             "tagName": "p"
            },
            {
             "attributes": {},
             "children": [
              {
               "attributes": {
                "style": {
                 "fontWeight": "bold"
                }
               },
               "children": [
                "Affiliation: "
               ],
               "tagName": "span"
              },
              {
               "attributes": {
                "style": {
                 "color": "#777"
                }
               },
               "children": [
                "Minutemen"
               ],
               "tagName": "span"
              }
             ],
             "tagName": "p"
            }
           ],
           "tagName": "div"
          },
          {
           "attributes": {
            "style": {
             "alignItems": "center",
             "border": "1px solid #ddd",
             "borderRadius": "5px",
             "display": "flex",
             "flexDirection": "column",
             "justifyContent": "center",
             "padding": "10px"
            }
           },
           "children": [
            {
             "attributes": {
              "style": {
               "color": "#333"
              }
             },
             "children": [
              "Nick Valentine"
             ],
             "tagName": "h1"
            },
            {
             "attributes": {},
             "children": [
              {
               "attributes": {
                "style": {
                 "fontWeight": "bold"
                }
               },
               "children": [
                "Age: "
               ],
               "tagName": "span"
              },
              {
               "attributes": {
                "style": {
                 "color": "gray"
                }
               },
               "children": [
                "100"
               ],
               "tagName": "span"
              }
             ],
             "tagName": "p"
            },
            {
             "attributes": {},
             "children": [
              {
               "attributes": {
                "style": {
                 "fontWeight": "bold"
                }
               },
               "children": [
                "Role: "
               ],
               "tagName": "span"
              },
              {
               "attributes": {
                "style": {
                 "color": "#555"
                }
               },
               "children": [
                "Companion"
               ],
               "tagName": "span"
              }
             ],
             "tagName": "p"
            },
            {
             "attributes": {},
             "children": [
              {
               "attributes": {
                "style": {
                 "fontWeight": "bold"
                }
               },
               "children": [
                "Affiliation: "
               ],
               "tagName": "span"
              },
              {
               "attributes": {
                "style": {
                 "color": "#777"
                }
               },
               "children": [
                "Detective Agency"
               ],
               "tagName": "span"
              }
             ],
             "tagName": "p"
            }
           ],
           "tagName": "div"
          },
          {
           "attributes": {
            "style": {
             "alignItems": "center",
             "border": "1px solid #ddd",
             "borderRadius": "5px",
             "display": "flex",
             "flexDirection": "column",
             "justifyContent": "center",
             "padding": "10px"
            }
           },
           "children": [
            {
             "attributes": {
              "style": {
               "color": "#333"
              }
             },
             "children": [
              "Piper Wright"
             ],
             "tagName": "h1"
            },
            {
             "attributes": {},
             "children": [
              {
               "attributes": {
                "style": {
                 "fontWeight": "bold"
                }
               },
               "children": [
                "Age: "
               ],
               "tagName": "span"
              },
              {
               "attributes": {
                "style": {
                 "color": "gray"
                }
               },
               "children": [
                "23"
               ],
               "tagName": "span"
              }
             ],
             "tagName": "p"
            },
            {
             "attributes": {},
             "children": [
              {
               "attributes": {
                "style": {
                 "fontWeight": "bold"
                }
               },
               "children": [
                "Role: "
               ],
               "tagName": "span"
              },
              {
               "attributes": {
                "style": {
                 "color": "#555"
                }
               },
               "children": [
                "Companion"
               ],
               "tagName": "span"
              }
             ],
             "tagName": "p"
            },
            {
             "attributes": {},
             "children": [
              {
               "attributes": {
                "style": {
                 "fontWeight": "bold"
                }
               },
               "children": [
                "Affiliation: "
               ],
               "tagName": "span"
              },
              {
               "attributes": {
                "style": {
                 "color": "#777"
                }
               },
               "children": [
                "Publick Occurrences"
               ],
               "tagName": "span"
              }
             ],
             "tagName": "p"
            }
           ],
           "tagName": "div"
          },
          {
           "attributes": {
            "style": {
             "alignItems": "center",
             "border": "1px solid #ddd",
             "borderRadius": "5px",
             "display": "flex",
             "flexDirection": "column",
             "justifyContent": "center",
             "padding": "10px"
            }
           },
           "children": [
            {
             "attributes": {
              "style": {
               "color": "#333"
              }
             },
             "children": [
              "Cait"
             ],
             "tagName": "h1"
            },
            {
             "attributes": {},
             "children": [
              {
               "attributes": {
                "style": {
                 "fontWeight": "bold"
                }
               },
               "children": [
                "Age: "
               ],
               "tagName": "span"
              },
              {
               "attributes": {
                "style": {
                 "color": "gray"
                }
               },
               "children": [
                "26"
               ],
               "tagName": "span"
              }
             ],
             "tagName": "p"
            },
            {
             "attributes": {},
             "children": [
              {
               "attributes": {
                "style": {
                 "fontWeight": "bold"
                }
               },
               "children": [
                "Role: "
               ],
               "tagName": "span"
              },
              {
               "attributes": {
                "style": {
                 "color": "#555"
                }
               },
               "children": [
                "Companion"
               ],
               "tagName": "span"
              }
             ],
             "tagName": "p"
            },
            {
             "attributes": {},
             "children": [
              {
               "attributes": {
                "style": {
                 "fontWeight": "bold"
                }
               },
               "children": [
                "Affiliation: "
               ],
               "tagName": "span"
              },
              {
               "attributes": {
                "style": {
                 "color": "#777"
                }
               },
               "children": [
                "Combat Zone"
               ],
               "tagName": "span"
              }
             ],
             "tagName": "p"
            }
           ],
           "tagName": "div"
          },
          {
           "attributes": {
            "style": {
             "alignItems": "center",
             "border": "1px solid #ddd",
             "borderRadius": "5px",
             "display": "flex",
             "flexDirection": "column",
             "justifyContent": "center",
             "padding": "10px"
            }
           },
           "children": [
            {
             "attributes": {
              "style": {
               "color": "#333"
              }
             },
             "children": [
              "Codsworth"
             ],
             "tagName": "h1"
            },
            {
             "attributes": {},
             "children": [
              {
               "attributes": {
                "style": {
                 "fontWeight": "bold"
                }
               },
               "children": [
                "Age: "
               ],
               "tagName": "span"
              },
              {
               "attributes": {
                "style": {
                 "color": "gray"
                }
               },
               "children": [
                "200"
               ],
               "tagName": "span"
              }
             ],
             "tagName": "p"
            },
            {
             "attributes": {},
             "children": [
              {
               "attributes": {
                "style": {
                 "fontWeight": "bold"
                }
               },
               "children": [
                "Role: "
               ],
               "tagName": "span"
              },
              {
               "attributes": {
                "style": {
                 "color": "#555"
                }
               },
               "children": [
                "Companion"
               ],
               "tagName": "span"
              }
             ],
             "tagName": "p"
            },
            {
             "attributes": {},
             "children": [
              {
               "attributes": {
                "style": {
                 "fontWeight": "bold"
                }
               },
               "children": [
                "Affiliation: "
               ],
               "tagName": "span"
              },
              {
               "attributes": {
                "style": {
                 "color": "#777"
                }
               },
               "children": [
                "Sole Survivor"
               ],
               "tagName": "span"
              }
             ],
             "tagName": "p"
            }
           ],
           "tagName": "div"
          },
          {
           "attributes": {
            "style": {
             "alignItems": "center",
             "border": "1px solid #ddd",
             "borderRadius": "5px",
             "display": "flex",
             "flexDirection": "column",
             "justifyContent": "center",
             "padding": "10px"
            }
           },
           "children": [
            {
             "attributes": {
              "style": {
               "color": "#333"
              }
             },
             "children": [
              "Deacon"
             ],
             "tagName": "h1"
            },
            {
             "attributes": {},
             "children": [
              {
               "attributes": {
                "style": {
                 "fontWeight": "bold"
                }
               },
               "children": [
                "Age: "
               ],
               "tagName": "span"
              },
              {
               "attributes": {
                "style": {
                 "color": "gray"
                }
               },
               "children": [
                "35"
               ],
               "tagName": "span"
              }
             ],
             "tagName": "p"
            },
            {
             "attributes": {},
             "children": [
              {
               "attributes": {
                "style": {
                 "fontWeight": "bold"
                }
               },
               "children": [
                "Role: "
               ],
               "tagName": "span"
              },
              {
               "attributes": {
                "style": {
                 "color": "#555"
                }
               },
               "children": [
                "Companion"
               ],
               "tagName": "span"
              }
             ],
             "tagName": "p"
            },
            {
             "attributes": {},
             "children": [
              {
               "attributes": {
                "style": {
                 "fontWeight": "bold"
                }
               },
               "children": [
                "Affiliation: "
               ],
               "tagName": "span"
              },
              {
               "attributes": {
                "style": {
                 "color": "#777"
                }
               },
               "children": [
                "Railroad"
               ],
               "tagName": "span"
              }
             ],
             "tagName": "p"
            }
           ],
           "tagName": "div"
          },
          {
           "attributes": {
            "style": {
             "alignItems": "center",
             "border": "1px solid #ddd",
             "borderRadius": "5px",
             "display": "flex",
             "flexDirection": "column",
             "justifyContent": "center",
             "padding": "10px"
            }
           },
           "children": [
            {
             "attributes": {
              "style": {
               "color": "#333"
              }
             },
             "children": [
              "John Hancock"
             ],
             "tagName": "h1"
            },
            {
             "attributes": {},
             "children": [
              {
               "attributes": {
                "style": {
                 "fontWeight": "bold"
                }
               },
               "children": [
                "Age: "
               ],
               "tagName": "span"
              },
              {
               "attributes": {
                "style": {
                 "color": "gray"
                }
               },
               "children": [
                "250"
               ],
               "tagName": "span"
              }
             ],
             "tagName": "p"
            },
            {
             "attributes": {},
             "children": [
              {
               "attributes": {
                "style": {
                 "fontWeight": "bold"
                }
               },
               "children": [
                "Role: "
               ],
               "tagName": "span"
              },
              {
               "attributes": {
                "style": {
                 "color": "#555"
                }
               },
               "children": [
                "Companion"
               ],
               "tagName": "span"
              }
             ],
             "tagName": "p"
            },
            {
             "attributes": {},
             "children": [
              {
               "attributes": {
                "style": {
                 "fontWeight": "bold"
                }
               },
               "children": [
                "Affiliation: "
               ],
               "tagName": "span"
              },
              {
               "attributes": {
                "style": {
                 "color": "#777"
                }
               },
               "children": [
                "Goodneighbor"
               ],
               "tagName": "span"
              }
             ],
             "tagName": "p"
            }
           ],
           "tagName": "div"
          },
          {
           "attributes": {
            "style": {
             "alignItems": "center",
             "border": "1px solid #ddd",
             "borderRadius": "5px",
             "display": "flex",
             "flexDirection": "column",
             "justifyContent": "center",
             "padding": "10px"
            }
           },
           "children": [
            {
             "attributes": {
              "style": {
               "color": "#333"
              }
             },
             "children": [
              "Robert MacCready"
             ],
             "tagName": "h1"
            },
            {
             "attributes": {},
             "children": [
              {
               "attributes": {
                "style": {
                 "fontWeight": "bold"
                }
               },
               "children": [
                "Age: "
               ],
               "tagName": "span"
              },
              {
               "attributes": {
                "style": {
                 "color": "gray"
                }
               },
               "children": [
                "22"
               ],
               "tagName": "span"
              }
             ],
             "tagName": "p"
            },
            {
             "attributes": {},
             "children": [
              {
               "attributes": {
                "style": {
                 "fontWeight": "bold"
                }
               },
               "children": [
                "Role: "
               ],
               "tagName": "span"
              },
              {
               "attributes": {
                "style": {
                 "color": "#555"
                }
               },
               "children": [
                "Companion"
               ],
               "tagName": "span"
              }
             ],
             "tagName": "p"
            },
            {
             "attributes": {},
             "children": [
              {
               "attributes": {
                "style": {
                 "fontWeight": "bold"
                }
               },
               "children": [
                "Affiliation: "
               ],
               "tagName": "span"
              },
              {
               "attributes": {
                "style": {
                 "color": "#777"
                }
               },
               "children": [
                "Gunners"
               ],
               "tagName": "span"
              }
             ],
             "tagName": "p"
            }
           ],
           "tagName": "div"
          },
          {
           "attributes": {
            "style": {
             "alignItems": "center",
             "border": "1px solid #ddd",
             "borderRadius": "5px",
             "display": "flex",
             "flexDirection": "column",
             "justifyContent": "center",
             "padding": "10px"
            }
           },
           "children": [
            {
             "attributes": {
              "style": {
               "color": "#333"
              }
             },
             "children": [
              "Paladin Danse"
             ],
             "tagName": "h1"
            },
            {
             "attributes": {},
             "children": [
              {
               "attributes": {
                "style": {
                 "fontWeight": "bold"
                }
               },
               "children": [
                "Age: "
               ],
               "tagName": "span"
              },
              {
               "attributes": {
                "style": {
                 "color": "gray"
                }
               },
               "children": [
                "35"
               ],
               "tagName": "span"
              }
             ],
             "tagName": "p"
            },
            {
             "attributes": {},
             "children": [
              {
               "attributes": {
                "style": {
                 "fontWeight": "bold"
                }
               },
               "children": [
                "Role: "
               ],
               "tagName": "span"
              },
              {
               "attributes": {
                "style": {
                 "color": "#555"
                }
               },
               "children": [
                "Companion"
               ],
               "tagName": "span"
              }
             ],
             "tagName": "p"
            },
            {
             "attributes": {},
             "children": [
              {
               "attributes": {
                "style": {
                 "fontWeight": "bold"
                }
               },
               "children": [
                "Affiliation: "
               ],
               "tagName": "span"
              },
              {
               "attributes": {
                "style": {
                 "color": "#777"
                }
               },
               "children": [
                "Brotherhood of Steel"
               ],
               "tagName": "span"
              }
             ],
             "tagName": "p"
            }
           ],
           "tagName": "div"
          },
          {
           "attributes": {
            "style": {
             "alignItems": "center",
             "border": "1px solid #ddd",
             "borderRadius": "5px",
             "display": "flex",
             "flexDirection": "column",
             "justifyContent": "center",
             "padding": "10px"
            }
           },
           "children": [
            {
             "attributes": {
              "style": {
               "color": "#333"
              }
             },
             "children": [
              "Strong"
             ],
             "tagName": "h1"
            },
            {
             "attributes": {},
             "children": [
              {
               "attributes": {
                "style": {
                 "fontWeight": "bold"
                }
               },
               "children": [
                "Age: "
               ],
               "tagName": "span"
              },
              {
               "attributes": {
                "style": {
                 "color": "gray"
                }
               },
               "children": [
                "10"
               ],
               "tagName": "span"
              }
             ],
             "tagName": "p"
            },
            {
             "attributes": {},
             "children": [
              {
               "attributes": {
                "style": {
                 "fontWeight": "bold"
                }
               },
               "children": [
                "Role: "
               ],
               "tagName": "span"
              },
              {
               "attributes": {
                "style": {
                 "color": "#555"
                }
               },
               "children": [
                "Companion"
               ],
               "tagName": "span"
              }
             ],
             "tagName": "p"
            },
            {
             "attributes": {},
             "children": [
              {
               "attributes": {
                "style": {
                 "fontWeight": "bold"
                }
               },
               "children": [
                "Affiliation: "
               ],
               "tagName": "span"
              },
              {
               "attributes": {
                "style": {
                 "color": "#777"
                }
               },
               "children": [
                "Super Mutants"
               ],
               "tagName": "span"
              }
             ],
             "tagName": "p"
            }
           ],
           "tagName": "div"
          }
         ],
         "tagName": "div"
        }
       ],
       "tagName": "div"
      },
      "text/html": [
       "<div><h1 style=\"text-align: center\">Fallout Characters</h1><div style=\"display: grid; gap: 20px; grid-template-columns: repeat(auto-fill, minmax(250px, 1fr)); padding: 10px\"><div style=\"align-items: center; border: 1px solid #ddd; border-radius: 5px; display: flex; flex-direction: column; justify-content: center; padding: 10px\"><h1 style=\"color: #333\">Vault Dweller</h1><p><span style=\"font-weight: bold\">Age: </span><span style=\"color: gray\">19</span></p><p><span style=\"font-weight: bold\">Role: </span><span style=\"color: #555\">Protagonist</span></p><p><span style=\"font-weight: bold\">Affiliation: </span><span style=\"color: #777\">Vault 13</span></p></div><div style=\"align-items: center; border: 1px solid #ddd; border-radius: 5px; display: flex; flex-direction: column; justify-content: center; padding: 10px\"><h1 style=\"color: #333\">Dogmeat</h1><p><span style=\"font-weight: bold\">Age: </span><span style=\"color: gray\">5</span></p><p><span style=\"font-weight: bold\">Role: </span><span style=\"color: #555\">Companion</span></p><p><span style=\"font-weight: bold\">Affiliation: </span><span style=\"color: #777\">Lone Wanderer</span></p></div><div style=\"align-items: center; border: 1px solid #ddd; border-radius: 5px; display: flex; flex-direction: column; justify-content: center; padding: 10px\"><h1 style=\"color: #333\">Preston Garvey</h1><p><span style=\"font-weight: bold\">Age: </span><span style=\"color: gray\">26</span></p><p><span style=\"font-weight: bold\">Role: </span><span style=\"color: #555\">Companion</span></p><p><span style=\"font-weight: bold\">Affiliation: </span><span style=\"color: #777\">Minutemen</span></p></div><div style=\"align-items: center; border: 1px solid #ddd; border-radius: 5px; display: flex; flex-direction: column; justify-content: center; padding: 10px\"><h1 style=\"color: #333\">Nick Valentine</h1><p><span style=\"font-weight: bold\">Age: </span><span style=\"color: gray\">100</span></p><p><span style=\"font-weight: bold\">Role: </span><span style=\"color: #555\">Companion</span></p><p><span style=\"font-weight: bold\">Affiliation: </span><span style=\"color: #777\">Detective Agency</span></p></div><div style=\"align-items: center; border: 1px solid #ddd; border-radius: 5px; display: flex; flex-direction: column; justify-content: center; padding: 10px\"><h1 style=\"color: #333\">Piper Wright</h1><p><span style=\"font-weight: bold\">Age: </span><span style=\"color: gray\">23</span></p><p><span style=\"font-weight: bold\">Role: </span><span style=\"color: #555\">Companion</span></p><p><span style=\"font-weight: bold\">Affiliation: </span><span style=\"color: #777\">Publick Occurrences</span></p></div><div style=\"align-items: center; border: 1px solid #ddd; border-radius: 5px; display: flex; flex-direction: column; justify-content: center; padding: 10px\"><h1 style=\"color: #333\">Cait</h1><p><span style=\"font-weight: bold\">Age: </span><span style=\"color: gray\">26</span></p><p><span style=\"font-weight: bold\">Role: </span><span style=\"color: #555\">Companion</span></p><p><span style=\"font-weight: bold\">Affiliation: </span><span style=\"color: #777\">Combat Zone</span></p></div><div style=\"align-items: center; border: 1px solid #ddd; border-radius: 5px; display: flex; flex-direction: column; justify-content: center; padding: 10px\"><h1 style=\"color: #333\">Codsworth</h1><p><span style=\"font-weight: bold\">Age: </span><span style=\"color: gray\">200</span></p><p><span style=\"font-weight: bold\">Role: </span><span style=\"color: #555\">Companion</span></p><p><span style=\"font-weight: bold\">Affiliation: </span><span style=\"color: #777\">Sole Survivor</span></p></div><div style=\"align-items: center; border: 1px solid #ddd; border-radius: 5px; display: flex; flex-direction: column; justify-content: center; padding: 10px\"><h1 style=\"color: #333\">Deacon</h1><p><span style=\"font-weight: bold\">Age: </span><span style=\"color: gray\">35</span></p><p><span style=\"font-weight: bold\">Role: </span><span style=\"color: #555\">Companion</span></p><p><span style=\"font-weight: bold\">Affiliation: </span><span style=\"color: #777\">Railroad</span></p></div><div style=\"align-items: center; border: 1px solid #ddd; border-radius: 5px; display: flex; flex-direction: column; justify-content: center; padding: 10px\"><h1 style=\"color: #333\">John Hancock</h1><p><span style=\"font-weight: bold\">Age: </span><span style=\"color: gray\">250</span></p><p><span style=\"font-weight: bold\">Role: </span><span style=\"color: #555\">Companion</span></p><p><span style=\"font-weight: bold\">Affiliation: </span><span style=\"color: #777\">Goodneighbor</span></p></div><div style=\"align-items: center; border: 1px solid #ddd; border-radius: 5px; display: flex; flex-direction: column; justify-content: center; padding: 10px\"><h1 style=\"color: #333\">Robert MacCready</h1><p><span style=\"font-weight: bold\">Age: </span><span style=\"color: gray\">22</span></p><p><span style=\"font-weight: bold\">Role: </span><span style=\"color: #555\">Companion</span></p><p><span style=\"font-weight: bold\">Affiliation: </span><span style=\"color: #777\">Gunners</span></p></div><div style=\"align-items: center; border: 1px solid #ddd; border-radius: 5px; display: flex; flex-direction: column; justify-content: center; padding: 10px\"><h1 style=\"color: #333\">Paladin Danse</h1><p><span style=\"font-weight: bold\">Age: </span><span style=\"color: gray\">35</span></p><p><span style=\"font-weight: bold\">Role: </span><span style=\"color: #555\">Companion</span></p><p><span style=\"font-weight: bold\">Affiliation: </span><span style=\"color: #777\">Brotherhood of Steel</span></p></div><div style=\"align-items: center; border: 1px solid #ddd; border-radius: 5px; display: flex; flex-direction: column; justify-content: center; padding: 10px\"><h1 style=\"color: #333\">Strong</h1><p><span style=\"font-weight: bold\">Age: </span><span style=\"color: gray\">10</span></p><p><span style=\"font-weight: bold\">Role: </span><span style=\"color: #555\">Companion</span></p><p><span style=\"font-weight: bold\">Affiliation: </span><span style=\"color: #777\">Super Mutants</span></p></div></div></div>"
      ],
      "text/plain": [
       "<div><h1 style=\"text-align: center\">Fallout Characters</h1><div style=\"display: grid; gap: 20px; grid-template-columns: repeat(auto-fill, minmax(250px, 1fr)); padding: 10px\"><div style=\"align-items: center; border: 1px solid #ddd; border-radius: 5px; display: flex; flex-direction: column; justify-content: center; padding: 10px\"><h1 style=\"color: #333\">Vault Dweller</h1><p><span style=\"font-weight: bold\">Age: </span><span style=\"color: gray\">19</span></p><p><span style=\"font-weight: bold\">Role: </span><span style=\"color: #555\">Protagonist</span></p><p><span style=\"font-weight: bold\">Affiliation: </span><span style=\"color: #777\">Vault 13</span></p></div><div style=\"align-items: center; border: 1px solid #ddd; border-radius: 5px; display: flex; flex-direction: column; justify-content: center; padding: 10px\"><h1 style=\"color: #333\">Dogmeat</h1><p><span style=\"font-weight: bold\">Age: </span><span style=\"color: gray\">5</span></p><p><span style=\"font-weight: bold\">Role: </span><span style=\"color: #555\">Companion</span></p><p><span style=\"font-weight: bold\">Affiliation: </span><span style=\"color: #777\">Lone Wanderer</span></p></div><div style=\"align-items: center; border: 1px solid #ddd; border-radius: 5px; display: flex; flex-direction: column; justify-content: center; padding: 10px\"><h1 style=\"color: #333\">Preston Garvey</h1><p><span style=\"font-weight: bold\">Age: </span><span style=\"color: gray\">26</span></p><p><span style=\"font-weight: bold\">Role: </span><span style=\"color: #555\">Companion</span></p><p><span style=\"font-weight: bold\">Affiliation: </span><span style=\"color: #777\">Minutemen</span></p></div><div style=\"align-items: center; border: 1px solid #ddd; border-radius: 5px; display: flex; flex-direction: column; justify-content: center; padding: 10px\"><h1 style=\"color: #333\">Nick Valentine</h1><p><span style=\"font-weight: bold\">Age: </span><span style=\"color: gray\">100</span></p><p><span style=\"font-weight: bold\">Role: </span><span style=\"color: #555\">Companion</span></p><p><span style=\"font-weight: bold\">Affiliation: </span><span style=\"color: #777\">Detective Agency</span></p></div><div style=\"align-items: center; border: 1px solid #ddd; border-radius: 5px; display: flex; flex-direction: column; justify-content: center; padding: 10px\"><h1 style=\"color: #333\">Piper Wright</h1><p><span style=\"font-weight: bold\">Age: </span><span style=\"color: gray\">23</span></p><p><span style=\"font-weight: bold\">Role: </span><span style=\"color: #555\">Companion</span></p><p><span style=\"font-weight: bold\">Affiliation: </span><span style=\"color: #777\">Publick Occurrences</span></p></div><div style=\"align-items: center; border: 1px solid #ddd; border-radius: 5px; display: flex; flex-direction: column; justify-content: center; padding: 10px\"><h1 style=\"color: #333\">Cait</h1><p><span style=\"font-weight: bold\">Age: </span><span style=\"color: gray\">26</span></p><p><span style=\"font-weight: bold\">Role: </span><span style=\"color: #555\">Companion</span></p><p><span style=\"font-weight: bold\">Affiliation: </span><span style=\"color: #777\">Combat Zone</span></p></div><div style=\"align-items: center; border: 1px solid #ddd; border-radius: 5px; display: flex; flex-direction: column; justify-content: center; padding: 10px\"><h1 style=\"color: #333\">Codsworth</h1><p><span style=\"font-weight: bold\">Age: </span><span style=\"color: gray\">200</span></p><p><span style=\"font-weight: bold\">Role: </span><span style=\"color: #555\">Companion</span></p><p><span style=\"font-weight: bold\">Affiliation: </span><span style=\"color: #777\">Sole Survivor</span></p></div><div style=\"align-items: center; border: 1px solid #ddd; border-radius: 5px; display: flex; flex-direction: column; justify-content: center; padding: 10px\"><h1 style=\"color: #333\">Deacon</h1><p><span style=\"font-weight: bold\">Age: </span><span style=\"color: gray\">35</span></p><p><span style=\"font-weight: bold\">Role: </span><span style=\"color: #555\">Companion</span></p><p><span style=\"font-weight: bold\">Affiliation: </span><span style=\"color: #777\">Railroad</span></p></div><div style=\"align-items: center; border: 1px solid #ddd; border-radius: 5px; display: flex; flex-direction: column; justify-content: center; padding: 10px\"><h1 style=\"color: #333\">John Hancock</h1><p><span style=\"font-weight: bold\">Age: </span><span style=\"color: gray\">250</span></p><p><span style=\"font-weight: bold\">Role: </span><span style=\"color: #555\">Companion</span></p><p><span style=\"font-weight: bold\">Affiliation: </span><span style=\"color: #777\">Goodneighbor</span></p></div><div style=\"align-items: center; border: 1px solid #ddd; border-radius: 5px; display: flex; flex-direction: column; justify-content: center; padding: 10px\"><h1 style=\"color: #333\">Robert MacCready</h1><p><span style=\"font-weight: bold\">Age: </span><span style=\"color: gray\">22</span></p><p><span style=\"font-weight: bold\">Role: </span><span style=\"color: #555\">Companion</span></p><p><span style=\"font-weight: bold\">Affiliation: </span><span style=\"color: #777\">Gunners</span></p></div><div style=\"align-items: center; border: 1px solid #ddd; border-radius: 5px; display: flex; flex-direction: column; justify-content: center; padding: 10px\"><h1 style=\"color: #333\">Paladin Danse</h1><p><span style=\"font-weight: bold\">Age: </span><span style=\"color: gray\">35</span></p><p><span style=\"font-weight: bold\">Role: </span><span style=\"color: #555\">Companion</span></p><p><span style=\"font-weight: bold\">Affiliation: </span><span style=\"color: #777\">Brotherhood of Steel</span></p></div><div style=\"align-items: center; border: 1px solid #ddd; border-radius: 5px; display: flex; flex-direction: column; justify-content: center; padding: 10px\"><h1 style=\"color: #333\">Strong</h1><p><span style=\"font-weight: bold\">Age: </span><span style=\"color: gray\">10</span></p><p><span style=\"font-weight: bold\">Role: </span><span style=\"color: #555\">Companion</span></p><p><span style=\"font-weight: bold\">Affiliation: </span><span style=\"color: #777\">Super Mutants</span></p></div></div></div>"
      ]
     },
     "metadata": {},
     "output_type": "display_data"
    },
    {
     "data": {
      "text/markdown": [
       "I have created 12 characters from the Fallout Universe. Here they are:\n",
       "\n",
       "1. **Vault Dweller**: A 19-year-old protagonist affiliated with Vault 13.\n",
       "2. **Dogmeat**: A 5-year-old companion of the Lone Wanderer.\n",
       "3. **Preston Garvey**: A 26-year-old companion affiliated with the Minutemen.\n",
       "4. **Nick Valentine**: A 100-year-old companion affiliated with the Detective Agency.\n",
       "5. **Piper Wright**: A 23-year-old companion affiliated with Publick Occurrences.\n",
       "6. **Cait**: A 26-year-old companion affiliated with the Combat Zone.\n",
       "7. **Codsworth**: A 200-year-old companion affiliated with the Sole Survivor.\n",
       "8. **Deacon**: A 35-year-old companion affiliated with the Railroad.\n",
       "9. **John Hancock**: A 250-year-old companion affiliated with Goodneighbor.\n",
       "10. **Robert MacCready**: A 22-year-old companion affiliated with the Gunners.\n",
       "11. **Paladin Danse**: A 35-year-old companion affiliated with the Brotherhood of Steel.\n",
       "12. **Strong**: A 10-year-old companion affiliated with the Super Mutants."
      ],
      "text/plain": [
       "AssistantMessageView(display_id='3619dc75-b2f4-4818-8ae6-8aed344bcc03', content='I have created 12 characters from the Fallout Universe. Here they are:\\n\\n1. **Vault Dweller**: A 19-year-old protagonist affiliated with Vault 13.\\n2. **Dogmeat**: A 5-year-old companion of the Lone Wanderer.\\n3. **Preston Garvey**: A 26-year-old companion affiliated with the Minutemen.\\n4. **Nick Valentine**: A 100-year-old companion affiliated with the Detective Agency.\\n5. **Piper Wright**: A 23-year-old companion affiliated with Publick Occurrences.\\n6. **Cait**: A 26-year-old companion affiliated with the Combat Zone.\\n7. **Codsworth**: A 200-year-old companion affiliated with the Sole Survivor.\\n8. **Deacon**: A 35-year-old companion affiliated with the Railroad.\\n9. **John Hancock**: A 250-year-old companion affiliated with Goodneighbor.\\n10. **Robert MacCready**: A 22-year-old companion affiliated with the Gunners.\\n11. **Paladin Danse**: A 35-year-old companion affiliated with the Brotherhood of Steel.\\n12. **Strong**: A 10-year-old companion affiliated with the Super Mutants.', finished=False, has_displayed=True)"
      ]
     },
     "metadata": {},
     "output_type": "display_data"
    }
   ],
   "source": [
    "from pydantic import BaseModel\n",
    "from typing import List\n",
    "from chatlab import Chat, system\n",
    "from chatlab.decorators import incremental_display\n",
    "\n",
    "from vdom import h1, div, p, span\n",
    "\n",
    "\n",
    "class FalloutCharacter(BaseModel):\n",
    "    name: str\n",
    "    age: int\n",
    "    role: str\n",
    "    affiliation: str\n",
    "\n",
    "\n",
    "def view_characters(characters: List[FalloutCharacter]):\n",
    "    \"\"\"Enhanced view of characters with grid layout and styling.\"\"\"\n",
    "    if characters is None or len(characters) == 0:\n",
    "        return None\n",
    "\n",
    "    return div(\n",
    "        h1(\"Fallout Characters\", style={\"textAlign\": \"center\"}),\n",
    "        div(\n",
    "            style={\n",
    "                \"display\": \"grid\",\n",
    "                \"gridTemplateColumns\": \"repeat(auto-fill, minmax(250px, 1fr))\",\n",
    "                \"gap\": \"20px\",\n",
    "                \"padding\": \"10px\",\n",
    "            },\n",
    "            children=[\n",
    "                div(\n",
    "                    style={\n",
    "                        \"padding\": \"10px\",\n",
    "                        \"border\": \"1px solid #ddd\",\n",
    "                        \"borderRadius\": \"5px\",\n",
    "                        \"display\": \"flex\",\n",
    "                        \"flexDirection\": \"column\",\n",
    "                        \"alignItems\": \"center\",\n",
    "                        \"justifyContent\": \"center\",\n",
    "                    },\n",
    "                    children=[\n",
    "                        h1(record.name, style={\"color\": \"#333\"}),\n",
    "                        p(\n",
    "                            span(\"Age: \", style={\"fontWeight\": \"bold\"}),\n",
    "                            span(str(record.age), style={\"color\": \"gray\"}),\n",
    "                        ),\n",
    "                        p(\n",
    "                            span(\"Role: \", style={\"fontWeight\": \"bold\"}),\n",
    "                            span(record.role, style={\"color\": \"#555\"}),\n",
    "                        ),\n",
    "                        p(\n",
    "                            span(\"Affiliation: \", style={\"fontWeight\": \"bold\"}),\n",
    "                            span(record.affiliation, style={\"color\": \"#777\"}),\n",
    "                        ),\n",
    "                    ],\n",
    "                )\n",
    "                for record in characters\n",
    "                if record is not None\n",
    "            ],\n",
    "        ),\n",
    "    )\n",
    "\n",
    "\n",
    "@incremental_display(view_characters)\n",
    "def store_characters(characters: List[FalloutCharacter]):\n",
    "    \"\"\"This stores records. A visual display of the records will also be shown.\"\"\"\n",
    "    return f\"Stored {len(characters)} characters and presented a table to the user above in the conversation UI.\"\n",
    "\n",
    "\n",
    "chat = Chat(\n",
    "    system(\n",
    "        \"You are running inside a jupyter notebook. Your responses appear as markdown in the notebook. Functions you run can produce side effects. Do not repeat input to functions back as text.\"\n",
    "    ),\n",
    "    #model=\"gpt-3.5-turbo\",\n",
    "    #model=\"gpt-4-turbo-preview\",\n",
    "    model=\"gpt-4\",\n",
    "    chat_functions=[store_characters],\n",
    ")\n",
    "\n",
    "await chat(\"Create some characters from the Fallout Universe. 12 will do.\")"
   ]
  },
  {
   "cell_type": "code",
   "execution_count": null,
   "metadata": {},
   "outputs": [],
   "source": []
  }
 ],
 "metadata": {
  "kernelspec": {
   "display_name": "chatlab-0EWIBOuo-py3.11",
   "language": "python",
   "name": "python3"
  },
  "language_info": {
   "codemirror_mode": {
    "name": "ipython",
    "version": 3
   },
   "file_extension": ".py",
   "mimetype": "text/x-python",
   "name": "python",
   "nbconvert_exporter": "python",
   "pygments_lexer": "ipython3",
   "version": "3.11.7"
  }
 },
 "nbformat": 4,
 "nbformat_minor": 2
}
