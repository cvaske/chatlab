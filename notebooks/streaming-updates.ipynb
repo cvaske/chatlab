{
 "cells": [
  {
   "cell_type": "code",
   "execution_count": 1,
   "metadata": {},
   "outputs": [
    {
     "data": {
      "application/vdom.v1+json": {
       "attributes": {},
       "children": [
        {
         "attributes": {
          "style": {
           "textAlign": "center"
          }
         },
         "children": [
          "Fallout Characters"
         ],
         "tagName": "h1"
        },
        {
         "attributes": {
          "style": {
           "display": "grid",
           "gap": "20px",
           "gridTemplateColumns": "repeat(auto-fill, minmax(250px, 1fr))",
           "padding": "10px"
          }
         },
         "children": [
          {
           "attributes": {
            "style": {
             "alignItems": "center",
             "border": "1px solid #ddd",
             "borderRadius": "5px",
             "display": "flex",
             "flexDirection": "column",
             "justifyContent": "center",
             "padding": "10px"
            }
           },
           "children": [
            {
             "attributes": {
              "style": {
               "color": "#333"
              }
             },
             "children": [
              "Vault Dweller"
             ],
             "tagName": "h1"
            },
            {
             "attributes": {},
             "children": [
              {
               "attributes": {
                "style": {
                 "fontWeight": "bold"
                }
               },
               "children": [
                "Age: "
               ],
               "tagName": "span"
              },
              {
               "attributes": {
                "style": {
                 "color": "gray"
                }
               },
               "children": [
                "25"
               ],
               "tagName": "span"
              }
             ],
             "tagName": "p"
            },
            {
             "attributes": {},
             "children": [
              {
               "attributes": {
                "style": {
                 "fontWeight": "bold"
                }
               },
               "children": [
                "Role: "
               ],
               "tagName": "span"
              },
              {
               "attributes": {
                "style": {
                 "color": "#555"
                }
               },
               "children": [
                "Sole Survivor"
               ],
               "tagName": "span"
              }
             ],
             "tagName": "p"
            },
            {
             "attributes": {},
             "children": [
              {
               "attributes": {
                "style": {
                 "fontWeight": "bold"
                }
               },
               "children": [
                "Affiliation: "
               ],
               "tagName": "span"
              },
              {
               "attributes": {
                "style": {
                 "color": "#777"
                }
               },
               "children": [
                "Vault-Tec Corporation"
               ],
               "tagName": "span"
              }
             ],
             "tagName": "p"
            }
           ],
           "tagName": "div"
          },
          {
           "attributes": {
            "style": {
             "alignItems": "center",
             "border": "1px solid #ddd",
             "borderRadius": "5px",
             "display": "flex",
             "flexDirection": "column",
             "justifyContent": "center",
             "padding": "10px"
            }
           },
           "children": [
            {
             "attributes": {
              "style": {
               "color": "#333"
              }
             },
             "children": [
              "Lone Wanderer"
             ],
             "tagName": "h1"
            },
            {
             "attributes": {},
             "children": [
              {
               "attributes": {
                "style": {
                 "fontWeight": "bold"
                }
               },
               "children": [
                "Age: "
               ],
               "tagName": "span"
              },
              {
               "attributes": {
                "style": {
                 "color": "gray"
                }
               },
               "children": [
                "21"
               ],
               "tagName": "span"
              }
             ],
             "tagName": "p"
            },
            {
             "attributes": {},
             "children": [
              {
               "attributes": {
                "style": {
                 "fontWeight": "bold"
                }
               },
               "children": [
                "Role: "
               ],
               "tagName": "span"
              },
              {
               "attributes": {
                "style": {
                 "color": "#555"
                }
               },
               "children": [
                "Wasteland Wanderer"
               ],
               "tagName": "span"
              }
             ],
             "tagName": "p"
            },
            {
             "attributes": {},
             "children": [
              {
               "attributes": {
                "style": {
                 "fontWeight": "bold"
                }
               },
               "children": [
                "Affiliation: "
               ],
               "tagName": "span"
              },
              {
               "attributes": {
                "style": {
                 "color": "#777"
                }
               },
               "children": [
                "Brotherhood of Steel"
               ],
               "tagName": "span"
              }
             ],
             "tagName": "p"
            }
           ],
           "tagName": "div"
          },
          {
           "attributes": {
            "style": {
             "alignItems": "center",
             "border": "1px solid #ddd",
             "borderRadius": "5px",
             "display": "flex",
             "flexDirection": "column",
             "justifyContent": "center",
             "padding": "10px"
            }
           },
           "children": [
            {
             "attributes": {
              "style": {
               "color": "#333"
              }
             },
             "children": [
              "Courier"
             ],
             "tagName": "h1"
            },
            {
             "attributes": {},
             "children": [
              {
               "attributes": {
                "style": {
                 "fontWeight": "bold"
                }
               },
               "children": [
                "Age: "
               ],
               "tagName": "span"
              },
              {
               "attributes": {
                "style": {
                 "color": "gray"
                }
               },
               "children": [
                "30"
               ],
               "tagName": "span"
              }
             ],
             "tagName": "p"
            },
            {
             "attributes": {},
             "children": [
              {
               "attributes": {
                "style": {
                 "fontWeight": "bold"
                }
               },
               "children": [
                "Role: "
               ],
               "tagName": "span"
              },
              {
               "attributes": {
                "style": {
                 "color": "#555"
                }
               },
               "children": [
                "Delivery Person"
               ],
               "tagName": "span"
              }
             ],
             "tagName": "p"
            },
            {
             "attributes": {},
             "children": [
              {
               "attributes": {
                "style": {
                 "fontWeight": "bold"
                }
               },
               "children": [
                "Affiliation: "
               ],
               "tagName": "span"
              },
              {
               "attributes": {
                "style": {
                 "color": "#777"
                }
               },
               "children": [
                "New California Republic"
               ],
               "tagName": "span"
              }
             ],
             "tagName": "p"
            }
           ],
           "tagName": "div"
          },
          {
           "attributes": {
            "style": {
             "alignItems": "center",
             "border": "1px solid #ddd",
             "borderRadius": "5px",
             "display": "flex",
             "flexDirection": "column",
             "justifyContent": "center",
             "padding": "10px"
            }
           },
           "children": [
            {
             "attributes": {
              "style": {
               "color": "#333"
              }
             },
             "children": [
              "Sole Survivor"
             ],
             "tagName": "h1"
            },
            {
             "attributes": {},
             "children": [
              {
               "attributes": {
                "style": {
                 "fontWeight": "bold"
                }
               },
               "children": [
                "Age: "
               ],
               "tagName": "span"
              },
              {
               "attributes": {
                "style": {
                 "color": "gray"
                }
               },
               "children": [
                "35"
               ],
               "tagName": "span"
              }
             ],
             "tagName": "p"
            },
            {
             "attributes": {},
             "children": [
              {
               "attributes": {
                "style": {
                 "fontWeight": "bold"
                }
               },
               "children": [
                "Role: "
               ],
               "tagName": "span"
              },
              {
               "attributes": {
                "style": {
                 "color": "#555"
                }
               },
               "children": [
                "Survivor"
               ],
               "tagName": "span"
              }
             ],
             "tagName": "p"
            },
            {
             "attributes": {},
             "children": [
              {
               "attributes": {
                "style": {
                 "fontWeight": "bold"
                }
               },
               "children": [
                "Affiliation: "
               ],
               "tagName": "span"
              },
              {
               "attributes": {
                "style": {
                 "color": "#777"
                }
               },
               "children": [
                "Minutemen"
               ],
               "tagName": "span"
              }
             ],
             "tagName": "p"
            }
           ],
           "tagName": "div"
          },
          {
           "attributes": {
            "style": {
             "alignItems": "center",
             "border": "1px solid #ddd",
             "borderRadius": "5px",
             "display": "flex",
             "flexDirection": "column",
             "justifyContent": "center",
             "padding": "10px"
            }
           },
           "children": [
            {
             "attributes": {
              "style": {
               "color": "#333"
              }
             },
             "children": [
              "Chosen One"
             ],
             "tagName": "h1"
            },
            {
             "attributes": {},
             "children": [
              {
               "attributes": {
                "style": {
                 "fontWeight": "bold"
                }
               },
               "children": [
                "Age: "
               ],
               "tagName": "span"
              },
              {
               "attributes": {
                "style": {
                 "color": "gray"
                }
               },
               "children": [
                "28"
               ],
               "tagName": "span"
              }
             ],
             "tagName": "p"
            },
            {
             "attributes": {},
             "children": [
              {
               "attributes": {
                "style": {
                 "fontWeight": "bold"
                }
               },
               "children": [
                "Role: "
               ],
               "tagName": "span"
              },
              {
               "attributes": {
                "style": {
                 "color": "#555"
                }
               },
               "children": [
                "Savior of Arroyo"
               ],
               "tagName": "span"
              }
             ],
             "tagName": "p"
            },
            {
             "attributes": {},
             "children": [
              {
               "attributes": {
                "style": {
                 "fontWeight": "bold"
                }
               },
               "children": [
                "Affiliation: "
               ],
               "tagName": "span"
              },
              {
               "attributes": {
                "style": {
                 "color": "#777"
                }
               },
               "children": [
                "Arroyo Tribe"
               ],
               "tagName": "span"
              }
             ],
             "tagName": "p"
            }
           ],
           "tagName": "div"
          },
          {
           "attributes": {
            "style": {
             "alignItems": "center",
             "border": "1px solid #ddd",
             "borderRadius": "5px",
             "display": "flex",
             "flexDirection": "column",
             "justifyContent": "center",
             "padding": "10px"
            }
           },
           "children": [
            {
             "attributes": {
              "style": {
               "color": "#333"
              }
             },
             "children": [
              "Sole Survivor"
             ],
             "tagName": "h1"
            },
            {
             "attributes": {},
             "children": [
              {
               "attributes": {
                "style": {
                 "fontWeight": "bold"
                }
               },
               "children": [
                "Age: "
               ],
               "tagName": "span"
              },
              {
               "attributes": {
                "style": {
                 "color": "gray"
                }
               },
               "children": [
                "40"
               ],
               "tagName": "span"
              }
             ],
             "tagName": "p"
            },
            {
             "attributes": {},
             "children": [
              {
               "attributes": {
                "style": {
                 "fontWeight": "bold"
                }
               },
               "children": [
                "Role: "
               ],
               "tagName": "span"
              },
              {
               "attributes": {
                "style": {
                 "color": "#555"
                }
               },
               "children": [
                "Parent searching for their child"
               ],
               "tagName": "span"
              }
             ],
             "tagName": "p"
            },
            {
             "attributes": {},
             "children": [
              {
               "attributes": {
                "style": {
                 "fontWeight": "bold"
                }
               },
               "children": [
                "Affiliation: "
               ],
               "tagName": "span"
              },
              {
               "attributes": {
                "style": {
                 "color": "#777"
                }
               },
               "children": [
                "Railroad"
               ],
               "tagName": "span"
              }
             ],
             "tagName": "p"
            }
           ],
           "tagName": "div"
          },
          {
           "attributes": {
            "style": {
             "alignItems": "center",
             "border": "1px solid #ddd",
             "borderRadius": "5px",
             "display": "flex",
             "flexDirection": "column",
             "justifyContent": "center",
             "padding": "10px"
            }
           },
           "children": [
            {
             "attributes": {
              "style": {
               "color": "#333"
              }
             },
             "children": [
              "Sole Survivor"
             ],
             "tagName": "h1"
            },
            {
             "attributes": {},
             "children": [
              {
               "attributes": {
                "style": {
                 "fontWeight": "bold"
                }
               },
               "children": [
                "Age: "
               ],
               "tagName": "span"
              },
              {
               "attributes": {
                "style": {
                 "color": "gray"
                }
               },
               "children": [
                "32"
               ],
               "tagName": "span"
              }
             ],
             "tagName": "p"
            },
            {
             "attributes": {},
             "children": [
              {
               "attributes": {
                "style": {
                 "fontWeight": "bold"
                }
               },
               "children": [
                "Role: "
               ],
               "tagName": "span"
              },
              {
               "attributes": {
                "style": {
                 "color": "#555"
                }
               },
               "children": [
                "Mercenary"
               ],
               "tagName": "span"
              }
             ],
             "tagName": "p"
            },
            {
             "attributes": {},
             "children": [
              {
               "attributes": {
                "style": {
                 "fontWeight": "bold"
                }
               },
               "children": [
                "Affiliation: "
               ],
               "tagName": "span"
              },
              {
               "attributes": {
                "style": {
                 "color": "#777"
                }
               },
               "children": [
                "The Institute"
               ],
               "tagName": "span"
              }
             ],
             "tagName": "p"
            }
           ],
           "tagName": "div"
          },
          {
           "attributes": {
            "style": {
             "alignItems": "center",
             "border": "1px solid #ddd",
             "borderRadius": "5px",
             "display": "flex",
             "flexDirection": "column",
             "justifyContent": "center",
             "padding": "10px"
            }
           },
           "children": [
            {
             "attributes": {
              "style": {
               "color": "#333"
              }
             },
             "children": [
              "Sole Survivor"
             ],
             "tagName": "h1"
            },
            {
             "attributes": {},
             "children": [
              {
               "attributes": {
                "style": {
                 "fontWeight": "bold"
                }
               },
               "children": [
                "Age: "
               ],
               "tagName": "span"
              },
              {
               "attributes": {
                "style": {
                 "color": "gray"
                }
               },
               "children": [
                "27"
               ],
               "tagName": "span"
              }
             ],
             "tagName": "p"
            },
            {
             "attributes": {},
             "children": [
              {
               "attributes": {
                "style": {
                 "fontWeight": "bold"
                }
               },
               "children": [
                "Role: "
               ],
               "tagName": "span"
              },
              {
               "attributes": {
                "style": {
                 "color": "#555"
                }
               },
               "children": [
                "Explorer"
               ],
               "tagName": "span"
              }
             ],
             "tagName": "p"
            },
            {
             "attributes": {},
             "children": [
              {
               "attributes": {
                "style": {
                 "fontWeight": "bold"
                }
               },
               "children": [
                "Affiliation: "
               ],
               "tagName": "span"
              },
              {
               "attributes": {
                "style": {
                 "color": "#777"
                }
               },
               "children": [
                "The Railroad"
               ],
               "tagName": "span"
              }
             ],
             "tagName": "p"
            }
           ],
           "tagName": "div"
          },
          {
           "attributes": {
            "style": {
             "alignItems": "center",
             "border": "1px solid #ddd",
             "borderRadius": "5px",
             "display": "flex",
             "flexDirection": "column",
             "justifyContent": "center",
             "padding": "10px"
            }
           },
           "children": [
            {
             "attributes": {
              "style": {
               "color": "#333"
              }
             },
             "children": [
              "Sole Survivor"
             ],
             "tagName": "h1"
            },
            {
             "attributes": {},
             "children": [
              {
               "attributes": {
                "style": {
                 "fontWeight": "bold"
                }
               },
               "children": [
                "Age: "
               ],
               "tagName": "span"
              },
              {
               "attributes": {
                "style": {
                 "color": "gray"
                }
               },
               "children": [
                "33"
               ],
               "tagName": "span"
              }
             ],
             "tagName": "p"
            },
            {
             "attributes": {},
             "children": [
              {
               "attributes": {
                "style": {
                 "fontWeight": "bold"
                }
               },
               "children": [
                "Role: "
               ],
               "tagName": "span"
              },
              {
               "attributes": {
                "style": {
                 "color": "#555"
                }
               },
               "children": [
                "Settler"
               ],
               "tagName": "span"
              }
             ],
             "tagName": "p"
            },
            {
             "attributes": {},
             "children": [
              {
               "attributes": {
                "style": {
                 "fontWeight": "bold"
                }
               },
               "children": [
                "Affiliation: "
               ],
               "tagName": "span"
              },
              {
               "attributes": {
                "style": {
                 "color": "#777"
                }
               },
               "children": [
                "Commonwealth Minutemen"
               ],
               "tagName": "span"
              }
             ],
             "tagName": "p"
            }
           ],
           "tagName": "div"
          },
          {
           "attributes": {
            "style": {
             "alignItems": "center",
             "border": "1px solid #ddd",
             "borderRadius": "5px",
             "display": "flex",
             "flexDirection": "column",
             "justifyContent": "center",
             "padding": "10px"
            }
           },
           "children": [
            {
             "attributes": {
              "style": {
               "color": "#333"
              }
             },
             "children": [
              "Sole Survivor"
             ],
             "tagName": "h1"
            },
            {
             "attributes": {},
             "children": [
              {
               "attributes": {
                "style": {
                 "fontWeight": "bold"
                }
               },
               "children": [
                "Age: "
               ],
               "tagName": "span"
              },
              {
               "attributes": {
                "style": {
                 "color": "gray"
                }
               },
               "children": [
                "29"
               ],
               "tagName": "span"
              }
             ],
             "tagName": "p"
            },
            {
             "attributes": {},
             "children": [
              {
               "attributes": {
                "style": {
                 "fontWeight": "bold"
                }
               },
               "children": [
                "Role: "
               ],
               "tagName": "span"
              },
              {
               "attributes": {
                "style": {
                 "color": "#555"
                }
               },
               "children": [
                "Scavenger"
               ],
               "tagName": "span"
              }
             ],
             "tagName": "p"
            },
            {
             "attributes": {},
             "children": [
              {
               "attributes": {
                "style": {
                 "fontWeight": "bold"
                }
               },
               "children": [
                "Affiliation: "
               ],
               "tagName": "span"
              },
              {
               "attributes": {
                "style": {
                 "color": "#777"
                }
               },
               "children": [
                "The Enclave"
               ],
               "tagName": "span"
              }
             ],
             "tagName": "p"
            }
           ],
           "tagName": "div"
          },
          {
           "attributes": {
            "style": {
             "alignItems": "center",
             "border": "1px solid #ddd",
             "borderRadius": "5px",
             "display": "flex",
             "flexDirection": "column",
             "justifyContent": "center",
             "padding": "10px"
            }
           },
           "children": [
            {
             "attributes": {
              "style": {
               "color": "#333"
              }
             },
             "children": [
              "Sole Survivor"
             ],
             "tagName": "h1"
            },
            {
             "attributes": {},
             "children": [
              {
               "attributes": {
                "style": {
                 "fontWeight": "bold"
                }
               },
               "children": [
                "Age: "
               ],
               "tagName": "span"
              },
              {
               "attributes": {
                "style": {
                 "color": "gray"
                }
               },
               "children": [
                "31"
               ],
               "tagName": "span"
              }
             ],
             "tagName": "p"
            },
            {
             "attributes": {},
             "children": [
              {
               "attributes": {
                "style": {
                 "fontWeight": "bold"
                }
               },
               "children": [
                "Role: "
               ],
               "tagName": "span"
              },
              {
               "attributes": {
                "style": {
                 "color": "#555"
                }
               },
               "children": [
                "Trader"
               ],
               "tagName": "span"
              }
             ],
             "tagName": "p"
            },
            {
             "attributes": {},
             "children": [
              {
               "attributes": {
                "style": {
                 "fontWeight": "bold"
                }
               },
               "children": [
                "Affiliation: "
               ],
               "tagName": "span"
              },
              {
               "attributes": {
                "style": {
                 "color": "#777"
                }
               },
               "children": [
                "The Pitt Raiders"
               ],
               "tagName": "span"
              }
             ],
             "tagName": "p"
            }
           ],
           "tagName": "div"
          },
          {
           "attributes": {
            "style": {
             "alignItems": "center",
             "border": "1px solid #ddd",
             "borderRadius": "5px",
             "display": "flex",
             "flexDirection": "column",
             "justifyContent": "center",
             "padding": "10px"
            }
           },
           "children": [
            {
             "attributes": {
              "style": {
               "color": "#333"
              }
             },
             "children": [
              "Sole Survivor"
             ],
             "tagName": "h1"
            },
            {
             "attributes": {},
             "children": [
              {
               "attributes": {
                "style": {
                 "fontWeight": "bold"
                }
               },
               "children": [
                "Age: "
               ],
               "tagName": "span"
              },
              {
               "attributes": {
                "style": {
                 "color": "gray"
                }
               },
               "children": [
                "26"
               ],
               "tagName": "span"
              }
             ],
             "tagName": "p"
            },
            {
             "attributes": {},
             "children": [
              {
               "attributes": {
                "style": {
                 "fontWeight": "bold"
                }
               },
               "children": [
                "Role: "
               ],
               "tagName": "span"
              },
              {
               "attributes": {
                "style": {
                 "color": "#555"
                }
               },
               "children": [
                "Gunslinger"
               ],
               "tagName": "span"
              }
             ],
             "tagName": "p"
            },
            {
             "attributes": {},
             "children": [
              {
               "attributes": {
                "style": {
                 "fontWeight": "bold"
                }
               },
               "children": [
                "Affiliation: "
               ],
               "tagName": "span"
              },
              {
               "attributes": {
                "style": {
                 "color": "#777"
                }
               },
               "children": [
                "The Kings"
               ],
               "tagName": "span"
              }
             ],
             "tagName": "p"
            }
           ],
           "tagName": "div"
          }
         ],
         "tagName": "div"
        }
       ],
       "tagName": "div"
      },
      "text/html": [
       "<div><h1 style=\"text-align: center\">Fallout Characters</h1><div style=\"display: grid; gap: 20px; grid-template-columns: repeat(auto-fill, minmax(250px, 1fr)); padding: 10px\"><div style=\"align-items: center; border: 1px solid #ddd; border-radius: 5px; display: flex; flex-direction: column; justify-content: center; padding: 10px\"><h1 style=\"color: #333\">Vault Dweller</h1><p><span style=\"font-weight: bold\">Age: </span><span style=\"color: gray\">25</span></p><p><span style=\"font-weight: bold\">Role: </span><span style=\"color: #555\">Sole Survivor</span></p><p><span style=\"font-weight: bold\">Affiliation: </span><span style=\"color: #777\">Vault-Tec Corporation</span></p></div><div style=\"align-items: center; border: 1px solid #ddd; border-radius: 5px; display: flex; flex-direction: column; justify-content: center; padding: 10px\"><h1 style=\"color: #333\">Lone Wanderer</h1><p><span style=\"font-weight: bold\">Age: </span><span style=\"color: gray\">21</span></p><p><span style=\"font-weight: bold\">Role: </span><span style=\"color: #555\">Wasteland Wanderer</span></p><p><span style=\"font-weight: bold\">Affiliation: </span><span style=\"color: #777\">Brotherhood of Steel</span></p></div><div style=\"align-items: center; border: 1px solid #ddd; border-radius: 5px; display: flex; flex-direction: column; justify-content: center; padding: 10px\"><h1 style=\"color: #333\">Courier</h1><p><span style=\"font-weight: bold\">Age: </span><span style=\"color: gray\">30</span></p><p><span style=\"font-weight: bold\">Role: </span><span style=\"color: #555\">Delivery Person</span></p><p><span style=\"font-weight: bold\">Affiliation: </span><span style=\"color: #777\">New California Republic</span></p></div><div style=\"align-items: center; border: 1px solid #ddd; border-radius: 5px; display: flex; flex-direction: column; justify-content: center; padding: 10px\"><h1 style=\"color: #333\">Sole Survivor</h1><p><span style=\"font-weight: bold\">Age: </span><span style=\"color: gray\">35</span></p><p><span style=\"font-weight: bold\">Role: </span><span style=\"color: #555\">Survivor</span></p><p><span style=\"font-weight: bold\">Affiliation: </span><span style=\"color: #777\">Minutemen</span></p></div><div style=\"align-items: center; border: 1px solid #ddd; border-radius: 5px; display: flex; flex-direction: column; justify-content: center; padding: 10px\"><h1 style=\"color: #333\">Chosen One</h1><p><span style=\"font-weight: bold\">Age: </span><span style=\"color: gray\">28</span></p><p><span style=\"font-weight: bold\">Role: </span><span style=\"color: #555\">Savior of Arroyo</span></p><p><span style=\"font-weight: bold\">Affiliation: </span><span style=\"color: #777\">Arroyo Tribe</span></p></div><div style=\"align-items: center; border: 1px solid #ddd; border-radius: 5px; display: flex; flex-direction: column; justify-content: center; padding: 10px\"><h1 style=\"color: #333\">Sole Survivor</h1><p><span style=\"font-weight: bold\">Age: </span><span style=\"color: gray\">40</span></p><p><span style=\"font-weight: bold\">Role: </span><span style=\"color: #555\">Parent searching for their child</span></p><p><span style=\"font-weight: bold\">Affiliation: </span><span style=\"color: #777\">Railroad</span></p></div><div style=\"align-items: center; border: 1px solid #ddd; border-radius: 5px; display: flex; flex-direction: column; justify-content: center; padding: 10px\"><h1 style=\"color: #333\">Sole Survivor</h1><p><span style=\"font-weight: bold\">Age: </span><span style=\"color: gray\">32</span></p><p><span style=\"font-weight: bold\">Role: </span><span style=\"color: #555\">Mercenary</span></p><p><span style=\"font-weight: bold\">Affiliation: </span><span style=\"color: #777\">The Institute</span></p></div><div style=\"align-items: center; border: 1px solid #ddd; border-radius: 5px; display: flex; flex-direction: column; justify-content: center; padding: 10px\"><h1 style=\"color: #333\">Sole Survivor</h1><p><span style=\"font-weight: bold\">Age: </span><span style=\"color: gray\">27</span></p><p><span style=\"font-weight: bold\">Role: </span><span style=\"color: #555\">Explorer</span></p><p><span style=\"font-weight: bold\">Affiliation: </span><span style=\"color: #777\">The Railroad</span></p></div><div style=\"align-items: center; border: 1px solid #ddd; border-radius: 5px; display: flex; flex-direction: column; justify-content: center; padding: 10px\"><h1 style=\"color: #333\">Sole Survivor</h1><p><span style=\"font-weight: bold\">Age: </span><span style=\"color: gray\">33</span></p><p><span style=\"font-weight: bold\">Role: </span><span style=\"color: #555\">Settler</span></p><p><span style=\"font-weight: bold\">Affiliation: </span><span style=\"color: #777\">Commonwealth Minutemen</span></p></div><div style=\"align-items: center; border: 1px solid #ddd; border-radius: 5px; display: flex; flex-direction: column; justify-content: center; padding: 10px\"><h1 style=\"color: #333\">Sole Survivor</h1><p><span style=\"font-weight: bold\">Age: </span><span style=\"color: gray\">29</span></p><p><span style=\"font-weight: bold\">Role: </span><span style=\"color: #555\">Scavenger</span></p><p><span style=\"font-weight: bold\">Affiliation: </span><span style=\"color: #777\">The Enclave</span></p></div><div style=\"align-items: center; border: 1px solid #ddd; border-radius: 5px; display: flex; flex-direction: column; justify-content: center; padding: 10px\"><h1 style=\"color: #333\">Sole Survivor</h1><p><span style=\"font-weight: bold\">Age: </span><span style=\"color: gray\">31</span></p><p><span style=\"font-weight: bold\">Role: </span><span style=\"color: #555\">Trader</span></p><p><span style=\"font-weight: bold\">Affiliation: </span><span style=\"color: #777\">The Pitt Raiders</span></p></div><div style=\"align-items: center; border: 1px solid #ddd; border-radius: 5px; display: flex; flex-direction: column; justify-content: center; padding: 10px\"><h1 style=\"color: #333\">Sole Survivor</h1><p><span style=\"font-weight: bold\">Age: </span><span style=\"color: gray\">26</span></p><p><span style=\"font-weight: bold\">Role: </span><span style=\"color: #555\">Gunslinger</span></p><p><span style=\"font-weight: bold\">Affiliation: </span><span style=\"color: #777\">The Kings</span></p></div></div></div>"
      ],
      "text/plain": [
       "<div><h1 style=\"text-align: center\">Fallout Characters</h1><div style=\"display: grid; gap: 20px; grid-template-columns: repeat(auto-fill, minmax(250px, 1fr)); padding: 10px\"><div style=\"align-items: center; border: 1px solid #ddd; border-radius: 5px; display: flex; flex-direction: column; justify-content: center; padding: 10px\"><h1 style=\"color: #333\">Vault Dweller</h1><p><span style=\"font-weight: bold\">Age: </span><span style=\"color: gray\">25</span></p><p><span style=\"font-weight: bold\">Role: </span><span style=\"color: #555\">Sole Survivor</span></p><p><span style=\"font-weight: bold\">Affiliation: </span><span style=\"color: #777\">Vault-Tec Corporation</span></p></div><div style=\"align-items: center; border: 1px solid #ddd; border-radius: 5px; display: flex; flex-direction: column; justify-content: center; padding: 10px\"><h1 style=\"color: #333\">Lone Wanderer</h1><p><span style=\"font-weight: bold\">Age: </span><span style=\"color: gray\">21</span></p><p><span style=\"font-weight: bold\">Role: </span><span style=\"color: #555\">Wasteland Wanderer</span></p><p><span style=\"font-weight: bold\">Affiliation: </span><span style=\"color: #777\">Brotherhood of Steel</span></p></div><div style=\"align-items: center; border: 1px solid #ddd; border-radius: 5px; display: flex; flex-direction: column; justify-content: center; padding: 10px\"><h1 style=\"color: #333\">Courier</h1><p><span style=\"font-weight: bold\">Age: </span><span style=\"color: gray\">30</span></p><p><span style=\"font-weight: bold\">Role: </span><span style=\"color: #555\">Delivery Person</span></p><p><span style=\"font-weight: bold\">Affiliation: </span><span style=\"color: #777\">New California Republic</span></p></div><div style=\"align-items: center; border: 1px solid #ddd; border-radius: 5px; display: flex; flex-direction: column; justify-content: center; padding: 10px\"><h1 style=\"color: #333\">Sole Survivor</h1><p><span style=\"font-weight: bold\">Age: </span><span style=\"color: gray\">35</span></p><p><span style=\"font-weight: bold\">Role: </span><span style=\"color: #555\">Survivor</span></p><p><span style=\"font-weight: bold\">Affiliation: </span><span style=\"color: #777\">Minutemen</span></p></div><div style=\"align-items: center; border: 1px solid #ddd; border-radius: 5px; display: flex; flex-direction: column; justify-content: center; padding: 10px\"><h1 style=\"color: #333\">Chosen One</h1><p><span style=\"font-weight: bold\">Age: </span><span style=\"color: gray\">28</span></p><p><span style=\"font-weight: bold\">Role: </span><span style=\"color: #555\">Savior of Arroyo</span></p><p><span style=\"font-weight: bold\">Affiliation: </span><span style=\"color: #777\">Arroyo Tribe</span></p></div><div style=\"align-items: center; border: 1px solid #ddd; border-radius: 5px; display: flex; flex-direction: column; justify-content: center; padding: 10px\"><h1 style=\"color: #333\">Sole Survivor</h1><p><span style=\"font-weight: bold\">Age: </span><span style=\"color: gray\">40</span></p><p><span style=\"font-weight: bold\">Role: </span><span style=\"color: #555\">Parent searching for their child</span></p><p><span style=\"font-weight: bold\">Affiliation: </span><span style=\"color: #777\">Railroad</span></p></div><div style=\"align-items: center; border: 1px solid #ddd; border-radius: 5px; display: flex; flex-direction: column; justify-content: center; padding: 10px\"><h1 style=\"color: #333\">Sole Survivor</h1><p><span style=\"font-weight: bold\">Age: </span><span style=\"color: gray\">32</span></p><p><span style=\"font-weight: bold\">Role: </span><span style=\"color: #555\">Mercenary</span></p><p><span style=\"font-weight: bold\">Affiliation: </span><span style=\"color: #777\">The Institute</span></p></div><div style=\"align-items: center; border: 1px solid #ddd; border-radius: 5px; display: flex; flex-direction: column; justify-content: center; padding: 10px\"><h1 style=\"color: #333\">Sole Survivor</h1><p><span style=\"font-weight: bold\">Age: </span><span style=\"color: gray\">27</span></p><p><span style=\"font-weight: bold\">Role: </span><span style=\"color: #555\">Explorer</span></p><p><span style=\"font-weight: bold\">Affiliation: </span><span style=\"color: #777\">The Railroad</span></p></div><div style=\"align-items: center; border: 1px solid #ddd; border-radius: 5px; display: flex; flex-direction: column; justify-content: center; padding: 10px\"><h1 style=\"color: #333\">Sole Survivor</h1><p><span style=\"font-weight: bold\">Age: </span><span style=\"color: gray\">33</span></p><p><span style=\"font-weight: bold\">Role: </span><span style=\"color: #555\">Settler</span></p><p><span style=\"font-weight: bold\">Affiliation: </span><span style=\"color: #777\">Commonwealth Minutemen</span></p></div><div style=\"align-items: center; border: 1px solid #ddd; border-radius: 5px; display: flex; flex-direction: column; justify-content: center; padding: 10px\"><h1 style=\"color: #333\">Sole Survivor</h1><p><span style=\"font-weight: bold\">Age: </span><span style=\"color: gray\">29</span></p><p><span style=\"font-weight: bold\">Role: </span><span style=\"color: #555\">Scavenger</span></p><p><span style=\"font-weight: bold\">Affiliation: </span><span style=\"color: #777\">The Enclave</span></p></div><div style=\"align-items: center; border: 1px solid #ddd; border-radius: 5px; display: flex; flex-direction: column; justify-content: center; padding: 10px\"><h1 style=\"color: #333\">Sole Survivor</h1><p><span style=\"font-weight: bold\">Age: </span><span style=\"color: gray\">31</span></p><p><span style=\"font-weight: bold\">Role: </span><span style=\"color: #555\">Trader</span></p><p><span style=\"font-weight: bold\">Affiliation: </span><span style=\"color: #777\">The Pitt Raiders</span></p></div><div style=\"align-items: center; border: 1px solid #ddd; border-radius: 5px; display: flex; flex-direction: column; justify-content: center; padding: 10px\"><h1 style=\"color: #333\">Sole Survivor</h1><p><span style=\"font-weight: bold\">Age: </span><span style=\"color: gray\">26</span></p><p><span style=\"font-weight: bold\">Role: </span><span style=\"color: #555\">Gunslinger</span></p><p><span style=\"font-weight: bold\">Affiliation: </span><span style=\"color: #777\">The Kings</span></p></div></div></div>"
      ]
     },
     "metadata": {},
     "output_type": "display_data"
    },
    {
     "data": {
      "text/markdown": [
       "I have created 12 characters from the Fallout Universe. You can see the details in the table above."
      ],
      "text/plain": [
       "AssistantMessageView(display_id='b8dc3f0d-69a2-49e1-aec5-7493673974e3', content='I have created 12 characters from the Fallout Universe. You can see the details in the table above.', finished=False, has_displayed=True)"
      ]
     },
     "metadata": {},
     "output_type": "display_data"
    }
   ],
   "source": [
    "from pydantic import BaseModel\n",
    "from typing import List\n",
    "from chatlab import Chat, system\n",
    "from chatlab.decorators import incremental_display\n",
    "\n",
    "from vdom import h1, div, p, span\n",
    "\n",
    "\n",
    "class FalloutCharacter(BaseModel):\n",
    "    name: str\n",
    "    age: int\n",
    "    role: str\n",
    "    affiliation: str\n",
    "\n",
    "\n",
    "def view_characters(characters: List[FalloutCharacter]):\n",
    "    \"\"\"Enhanced view of characters with grid layout and styling.\"\"\"\n",
    "    if characters is None or len(characters) == 0:\n",
    "        return None\n",
    "\n",
    "    return div(\n",
    "        h1(\"Fallout Characters\", style={\"textAlign\": \"center\"}),\n",
    "        div(\n",
    "            style={\n",
    "                \"display\": \"grid\",\n",
    "                \"gridTemplateColumns\": \"repeat(auto-fill, minmax(250px, 1fr))\",\n",
    "                \"gap\": \"20px\",\n",
    "                \"padding\": \"10px\",\n",
    "            },\n",
    "            children=[\n",
    "                div(\n",
    "                    style={\n",
    "                        \"padding\": \"10px\",\n",
    "                        \"border\": \"1px solid #ddd\",\n",
    "                        \"borderRadius\": \"5px\",\n",
    "                        \"display\": \"flex\",\n",
    "                        \"flexDirection\": \"column\",\n",
    "                        \"alignItems\": \"center\",\n",
    "                        \"justifyContent\": \"center\",\n",
    "                    },\n",
    "                    children=[\n",
    "                        h1(record.name, style={\"color\": \"#333\"}),\n",
    "                        p(\n",
    "                            span(\"Age: \", style={\"fontWeight\": \"bold\"}),\n",
    "                            span(str(record.age), style={\"color\": \"gray\"}),\n",
    "                        ),\n",
    "                        p(\n",
    "                            span(\"Role: \", style={\"fontWeight\": \"bold\"}),\n",
    "                            span(record.role, style={\"color\": \"#555\"}),\n",
    "                        ),\n",
    "                        p(\n",
    "                            span(\"Affiliation: \", style={\"fontWeight\": \"bold\"}),\n",
    "                            span(record.affiliation, style={\"color\": \"#777\"}),\n",
    "                        ),\n",
    "                    ],\n",
    "                )\n",
    "                for record in characters\n",
    "                if record is not None\n",
    "            ],\n",
    "        ),\n",
    "    )\n",
    "\n",
    "\n",
    "@incremental_display(view_characters)\n",
    "def store_characters(characters: List[FalloutCharacter]):\n",
    "    \"\"\"This stores records. A visual display of the records will also be shown.\"\"\"\n",
    "    return f\"Stored {len(characters)} characters and presented a table to the user above in the conversation UI.\"\n",
    "\n",
    "\n",
    "chat = Chat(\n",
    "    system(\n",
    "        \"You are running inside a jupyter notebook. Your responses appear as markdown in the notebook. Functions you run can produce side effects. Do not repeat input to functions back as text.\"\n",
    "    ),\n",
    "    model=\"gpt-3.5-turbo\",\n",
    "    # model=\"gpt-4-turbo-preview\",\n",
    "    chat_functions=[store_characters],\n",
    ")\n",
    "\n",
    "await chat(\"Create some characters from the Fallout Universe. 12 will do.\")"
   ]
  },
  {
   "cell_type": "code",
   "execution_count": null,
   "metadata": {},
   "outputs": [],
   "source": []
  }
 ],
 "metadata": {
  "kernelspec": {
   "display_name": "chatlab-0EWIBOuo-py3.11",
   "language": "python",
   "name": "python3"
  },
  "language_info": {
   "codemirror_mode": {
    "name": "ipython",
    "version": 3
   },
   "file_extension": ".py",
   "mimetype": "text/x-python",
   "name": "python",
   "nbconvert_exporter": "python",
   "pygments_lexer": "ipython3",
   "version": "3.11.7"
  }
 },
 "nbformat": 4,
 "nbformat_minor": 2
}
