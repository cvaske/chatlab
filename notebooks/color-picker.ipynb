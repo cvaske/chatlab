{
 "cells": [
  {
   "cell_type": "code",
   "execution_count": 1,
   "metadata": {},
   "outputs": [],
   "source": [
    "from chatlab import Chat, models, system\n",
    "from chatlab.builtins.colors import show_colors\n",
    "\n",
    "chat = Chat(\n",
    "    system(\"Format responses in markdown,. You are a skilled designer.\"),\n",
    "    chat_functions=[show_colors],\n",
    "    model=models.GPT_4_1106_PREVIEW,\n",
    ")"
   ]
  },
  {
   "cell_type": "code",
   "execution_count": 2,
   "metadata": {},
   "outputs": [
    {
     "data": {
      "text/html": [
       "<div><style>.chatlab-chat-details summary &gt; *  { display: inline; color: #27374D; }</style><details style=\"background: #DDE6ED; border-radius: 5px; padding: .5rem 1rem\" className=\"chatlab-chat-details\"><summary style=\"color: #27374D; cursor: pointer\"><span style=\"color: #9DB2BF; padding-left: 5px; padding-right: 5px\">𝑓</span><span style=\"color: #27374D; padding-left: 5px; padding-right: 5px\">Ran</span><span style=\"font-family: monospace; unicode-bidi: embed; white-space: pre\">show_colors</span><span style=\"font-family: monospace; unicode-bidi: embed; white-space: pre\">...</span></summary><div style=\"margin-left: 10px; margin-top: 10px\"><div><div style=\"color: #27374D; font-weight: 500; margin-bottom: 5px\">Input:</div><div style=\"background: #F7F9FA; color: #27374D; font-family: monospace; margin-bottom: 10px; overflow-x: auto; padding: 10px; unicode-bidi: embed; white-space: pre\">{&quot;colors&quot;:[&quot;#1C1C1E&quot;,&quot;#2C2C2E&quot;,&quot;#3A3A3C&quot;,&quot;#48484A&quot;,&quot;#9DA5B4&quot;,&quot;#6366F1&quot;,&quot;#8B5CF6&quot;,&quot;#EC4899&quot;,&quot;#F43F5E&quot;,&quot;#10B981&quot;]}</div></div><div></div></div></details></div>"
      ],
      "text/plain": [
       "ToolArguments(display_id='3d787da0-d2cf-4988-9126-8aee8e8f32db', id='TBD', name='show_colors', arguments='{\"colors\":[\"#1C1C1E\",\"#2C2C2E\",\"#3A3A3C\",\"#48484A\",\"#9DA5B4\",\"#6366F1\",\"#8B5CF6\",\"#EC4899\",\"#F43F5E\",\"#10B981\"]}', verbage='Ran', finished=True)"
      ]
     },
     "metadata": {},
     "output_type": "display_data"
    },
    {
     "data": {
      "text/html": [
       "<div><div style=\"background-color:#1C1C1E; width:50px; height:50px; display:inline-block;\"></div><div style=\"background-color:#2C2C2E; width:50px; height:50px; display:inline-block;\"></div><div style=\"background-color:#3A3A3C; width:50px; height:50px; display:inline-block;\"></div><div style=\"background-color:#48484A; width:50px; height:50px; display:inline-block;\"></div><div style=\"background-color:#9DA5B4; width:50px; height:50px; display:inline-block;\"></div><div style=\"background-color:#6366F1; width:50px; height:50px; display:inline-block;\"></div><div style=\"background-color:#8B5CF6; width:50px; height:50px; display:inline-block;\"></div><div style=\"background-color:#EC4899; width:50px; height:50px; display:inline-block;\"></div><div style=\"background-color:#F43F5E; width:50px; height:50px; display:inline-block;\"></div><div style=\"background-color:#10B981; width:50px; height:50px; display:inline-block;\"></div></div>"
      ],
      "text/plain": [
       "Palette(['#1C1C1E', '#2C2C2E', '#3A3A3C', '#48484A', '#9DA5B4', '#6366F1', '#8B5CF6', '#EC4899', '#F43F5E', '#10B981'], palette-6b614434498c16afb361f78a67dd1ded75a67cc8)"
      ]
     },
     "metadata": {},
     "output_type": "display_data"
    },
    {
     "data": {
      "text/markdown": [
       "Here is a dark-themed color palette suitable for a portfolio website:\n",
       "\n",
       "1. **Primary Background**: `#1C1C1E` - A deep, dark gray that serves as a strong base for the dark theme.\n",
       "2. **Secondary Background**: `#2C2C2E` - Slightly lighter than the primary background, for sections or card backgrounds.\n",
       "3. **Tertiary Background**: `#3A3A3C` - Even lighter, for subtle differentiation of UI elements like sidebars or modals.\n",
       "4. **Accent Background**: `#48484A` - A medium-dark gray that can be used for hover states or to highlight active elements.\n",
       "5. **Neutral Text**: `#9DA5B4` - A muted blue-gray for body text that contrasts well against the dark backgrounds.\n",
       "6. **Primary Accent**: `#6366F1` - A vibrant indigo for call-to-action buttons and links to stand out.\n",
       "7. **Secondary Accent**: `#8B5CF6` - A purple accent for secondary buttons or interactive elements.\n",
       "8. **Tertiary Accent**: `#EC4899` - A pink accent for highlights, icons, or progress bars.\n",
       "9. **Quaternary Accent**: `#F43F5E` - A red accent for important warnings or errors.\n",
       "10. **Highlight Accent**: `#10B981` - A fresh green for success messages or to denote active statuses.\n",
       "\n",
       "This palette combines a range of dark grays to create depth and layering in the UI, with pops of color to draw attention to important elements and actions. The use of indigo, purple, pink, red, and green as accent colors adds vibrancy and visual interest to the dark theme, ensuring that the portfolio remains engaging and easy to navigate."
      ],
      "text/plain": [
       "AssistantMessageView(display_id='a80ad66d-dfb5-4349-881f-c46050acb576', content='Here is a dark-themed color palette suitable for a portfolio website:\\n\\n1. **Primary Background**: `#1C1C1E` - A deep, dark gray that serves as a strong base for the dark theme.\\n2. **Secondary Background**: `#2C2C2E` - Slightly lighter than the primary background, for sections or card backgrounds.\\n3. **Tertiary Background**: `#3A3A3C` - Even lighter, for subtle differentiation of UI elements like sidebars or modals.\\n4. **Accent Background**: `#48484A` - A medium-dark gray that can be used for hover states or to highlight active elements.\\n5. **Neutral Text**: `#9DA5B4` - A muted blue-gray for body text that contrasts well against the dark backgrounds.\\n6. **Primary Accent**: `#6366F1` - A vibrant indigo for call-to-action buttons and links to stand out.\\n7. **Secondary Accent**: `#8B5CF6` - A purple accent for secondary buttons or interactive elements.\\n8. **Tertiary Accent**: `#EC4899` - A pink accent for highlights, icons, or progress bars.\\n9. **Quaternary Accent**: `#F43F5E` - A red accent for important warnings or errors.\\n10. **Highlight Accent**: `#10B981` - A fresh green for success messages or to denote active statuses.\\n\\nThis palette combines a range of dark grays to create depth and layering in the UI, with pops of color to draw attention to important elements and actions. The use of indigo, purple, pink, red, and green as accent colors adds vibrancy and visual interest to the dark theme, ensuring that the portfolio remains engaging and easy to navigate.', finished=False, has_displayed=True)"
      ]
     },
     "metadata": {},
     "output_type": "display_data"
    }
   ],
   "source": [
    "await chat(\"Create a palette for a portfolio site with a dark theme.\")"
   ]
  },
  {
   "cell_type": "code",
   "execution_count": 3,
   "metadata": {},
   "outputs": [
    {
     "data": {
      "text/html": [
       "<div><style>.chatlab-chat-details summary &gt; *  { display: inline; color: #27374D; }</style><details style=\"background: #DDE6ED; border-radius: 5px; padding: .5rem 1rem\" className=\"chatlab-chat-details\"><summary style=\"color: #27374D; cursor: pointer\"><span style=\"color: #9DB2BF; padding-left: 5px; padding-right: 5px\">𝑓</span><span style=\"color: #27374D; padding-left: 5px; padding-right: 5px\">Ran</span><span style=\"font-family: monospace; unicode-bidi: embed; white-space: pre\">show_colors</span><span style=\"font-family: monospace; unicode-bidi: embed; white-space: pre\">...</span></summary><div style=\"margin-left: 10px; margin-top: 10px\"><div><div style=\"color: #27374D; font-weight: 500; margin-bottom: 5px\">Input:</div><div style=\"background: #F7F9FA; color: #27374D; font-family: monospace; margin-bottom: 10px; overflow-x: auto; padding: 10px; unicode-bidi: embed; white-space: pre\">{&quot;colors&quot;:[&quot;#101010&quot;,&quot;#212121&quot;,&quot;#333333&quot;,&quot;#454545&quot;,&quot;#BBBBBB&quot;,&quot;#32CD32&quot;,&quot;#00FFFF&quot;,&quot;#FFD700&quot;,&quot;#FF1493&quot;,&quot;#4B0082&quot;]}</div></div><div></div></div></details></div>"
      ],
      "text/plain": [
       "ToolArguments(display_id='ca8566b7-af21-4bf2-b341-c01910d11d5a', id='TBD', name='show_colors', arguments='{\"colors\":[\"#101010\",\"#212121\",\"#333333\",\"#454545\",\"#BBBBBB\",\"#32CD32\",\"#00FFFF\",\"#FFD700\",\"#FF1493\",\"#4B0082\"]}', verbage='Ran', finished=True)"
      ]
     },
     "metadata": {},
     "output_type": "display_data"
    },
    {
     "data": {
      "text/html": [
       "<div><div style=\"background-color:#101010; width:50px; height:50px; display:inline-block;\"></div><div style=\"background-color:#212121; width:50px; height:50px; display:inline-block;\"></div><div style=\"background-color:#333333; width:50px; height:50px; display:inline-block;\"></div><div style=\"background-color:#454545; width:50px; height:50px; display:inline-block;\"></div><div style=\"background-color:#BBBBBB; width:50px; height:50px; display:inline-block;\"></div><div style=\"background-color:#32CD32; width:50px; height:50px; display:inline-block;\"></div><div style=\"background-color:#00FFFF; width:50px; height:50px; display:inline-block;\"></div><div style=\"background-color:#FFD700; width:50px; height:50px; display:inline-block;\"></div><div style=\"background-color:#FF1493; width:50px; height:50px; display:inline-block;\"></div><div style=\"background-color:#4B0082; width:50px; height:50px; display:inline-block;\"></div></div>"
      ],
      "text/plain": [
       "Palette(['#101010', '#212121', '#333333', '#454545', '#BBBBBB', '#32CD32', '#00FFFF', '#FFD700', '#FF1493', '#4B0082'], palette-35c93757e18f3ad74a4ddbbf1965519d5a6dc7b1)"
      ]
     },
     "metadata": {},
     "output_type": "display_data"
    },
    {
     "data": {
      "text/markdown": [
       "Here is a neon-themed color palette suitable for a portfolio website with a dark theme:\n",
       "\n",
       "1. **Primary Background**: `#101010` - A very dark, almost black color to make the neon colors pop.\n",
       "2. **Secondary Background**: `#212121` - A slightly lighter shade of dark gray for section backgrounds or cards.\n",
       "3. **Tertiary Background**: `#333333` - A medium dark gray for differentiating UI elements like sidebars or modals.\n",
       "4. **Accent Background**: `#454545` - A dark gray that can be used for hover states or to highlight active elements.\n",
       "5. **Neutral Text**: `#BBBBBB` - A bright gray for text, providing high contrast against the dark backgrounds.\n",
       "6. **Primary Neon Accent**: `#32CD32` - A bright neon green for primary call-to-action buttons and links.\n",
       "7. **Secondary Neon Accent**: `#00FFFF` - A neon cyan for secondary buttons or interactive elements.\n",
       "8. **Tertiary Neon Accent**: `#FFD700` - A neon yellow for highlights, icons, or progress bars.\n",
       "9. **Quaternary Neon Accent**: `#FF1493` - A neon pink for important warnings or errors.\n",
       "10. **Highlight Neon Accent**: `#4B0082` - A neon indigo for success messages or to denote active statuses.\n",
       "\n",
       "This neon palette is designed to stand out dramatically against the dark background, with bright and vibrant colors that give the portfolio a dynamic and modern feel. The neon accents are intended to draw the user's attention to key elements and actions, while the range of dark grays allows for depth and layering in the UI design."
      ],
      "text/plain": [
       "AssistantMessageView(display_id='24026821-cf04-43c9-8337-13cd4d7abdfa', content=\"Here is a neon-themed color palette suitable for a portfolio website with a dark theme:\\n\\n1. **Primary Background**: `#101010` - A very dark, almost black color to make the neon colors pop.\\n2. **Secondary Background**: `#212121` - A slightly lighter shade of dark gray for section backgrounds or cards.\\n3. **Tertiary Background**: `#333333` - A medium dark gray for differentiating UI elements like sidebars or modals.\\n4. **Accent Background**: `#454545` - A dark gray that can be used for hover states or to highlight active elements.\\n5. **Neutral Text**: `#BBBBBB` - A bright gray for text, providing high contrast against the dark backgrounds.\\n6. **Primary Neon Accent**: `#32CD32` - A bright neon green for primary call-to-action buttons and links.\\n7. **Secondary Neon Accent**: `#00FFFF` - A neon cyan for secondary buttons or interactive elements.\\n8. **Tertiary Neon Accent**: `#FFD700` - A neon yellow for highlights, icons, or progress bars.\\n9. **Quaternary Neon Accent**: `#FF1493` - A neon pink for important warnings or errors.\\n10. **Highlight Neon Accent**: `#4B0082` - A neon indigo for success messages or to denote active statuses.\\n\\nThis neon palette is designed to stand out dramatically against the dark background, with bright and vibrant colors that give the portfolio a dynamic and modern feel. The neon accents are intended to draw the user's attention to key elements and actions, while the range of dark grays allows for depth and layering in the UI design.\", finished=False, has_displayed=True)"
      ]
     },
     "metadata": {},
     "output_type": "display_data"
    }
   ],
   "source": [
    "await chat(\"Can you make a neon version now?\")"
   ]
  },
  {
   "cell_type": "code",
   "execution_count": null,
   "metadata": {},
   "outputs": [],
   "source": []
  }
 ],
 "metadata": {
  "kernelspec": {
   "display_name": "chatlab-3kMKfU-i-py3.11",
   "language": "python",
   "name": "python3"
  },
  "language_info": {
   "codemirror_mode": {
    "name": "ipython",
    "version": 3
   },
   "file_extension": ".py",
   "mimetype": "text/x-python",
   "name": "python",
   "nbconvert_exporter": "python",
   "pygments_lexer": "ipython3",
   "version": "3.11.7"
  }
 },
 "nbformat": 4,
 "nbformat_minor": 2
}
